{
 "cells": [
  {
   "cell_type": "code",
   "execution_count": 1,
   "id": "9940d7aa-bbaf-4727-ac47-2e6fccf20d8e",
   "metadata": {},
   "outputs": [],
   "source": [
    "import numpy as np"
   ]
  },
  {
   "cell_type": "code",
   "execution_count": null,
   "id": "b7eb6a85-b6f9-4ee8-aac7-606c13a8fd43",
   "metadata": {},
   "outputs": [],
   "source": []
  },
  {
   "cell_type": "code",
   "execution_count": 2,
   "id": "e2dabae7-08df-453c-b97f-ac3bc30524f1",
   "metadata": {},
   "outputs": [
    {
     "name": "stdout",
     "output_type": "stream",
     "text": [
      "1D array: [1 2 3 4]\n"
     ]
    }
   ],
   "source": [
    "#1D array\n",
    "a = np.array([1, 2, 3, 4])\n",
    "print(\"1D array:\", a)"
   ]
  },
  {
   "cell_type": "code",
   "execution_count": 6,
   "id": "8c6d4a26-04c8-465a-a6f9-33f20b1eac95",
   "metadata": {},
   "outputs": [
    {
     "name": "stdout",
     "output_type": "stream",
     "text": [
      "2D array [[1 2]\n",
      " [3 4]]\n"
     ]
    }
   ],
   "source": [
    "#2D array\n",
    "b = np.array([[1, 2], [3, 4]])\n",
    "print(\"2D array\", b)"
   ]
  },
  {
   "cell_type": "code",
   "execution_count": 11,
   "id": "a7cf882b-09ea-45df-837f-2c3614a73c50",
   "metadata": {},
   "outputs": [
    {
     "name": "stdout",
     "output_type": "stream",
     "text": [
      "Zeros:\n",
      " [[0. 0. 0.]\n",
      " [0. 0. 0.]]\n",
      "Ones: \n",
      " [[1. 1.]\n",
      " [1. 1.]\n",
      " [1. 1.]]\n"
     ]
    }
   ],
   "source": [
    "# zeros and ones\n",
    "zeros = np.zeros((2, 3))\n",
    "ones = np.ones((3, 2))\n",
    "print(\"Zeros:\\n\",zeros)\n",
    "print(\"Ones: \\n\", ones)"
   ]
  },
  {
   "cell_type": "code",
   "execution_count": 9,
   "id": "99635cba-b20b-48f1-9faa-6abbfc0a423d",
   "metadata": {},
   "outputs": [
    {
     "name": "stdout",
     "output_type": "stream",
     "text": [
      "[[1. 0. 0.]\n",
      " [0. 1. 0.]\n",
      " [0. 0. 1.]]\n"
     ]
    }
   ],
   "source": [
    "# a 3 by 3 matrix the value in bracket can be changed to any number : n by n matrix\n",
    "identity = np.eye(3)\n",
    "print(identity)"
   ]
  },
  {
   "cell_type": "code",
   "execution_count": null,
   "id": "345aeb96-58e1-4912-b103-a35675d91653",
   "metadata": {},
   "outputs": [],
   "source": []
  },
  {
   "cell_type": "code",
   "execution_count": 14,
   "id": "7838fd67-d2fc-4854-99b4-f27cfab2a142",
   "metadata": {},
   "outputs": [
    {
     "name": "stdout",
     "output_type": "stream",
     "text": [
      "[11 33 49]\n",
      "[ 10  90 180]\n",
      "[3.16227766 5.47722558 6.70820393]\n",
      "[ 5.  15.  22.5]\n"
     ]
    }
   ],
   "source": [
    "# Array Operations\n",
    "\n",
    "x = np.array([10, 30, 45])\n",
    "y = np.array([1, 3, 4])\n",
    "\n",
    "print(x+y)\n",
    "print(x*y)\n",
    "print(np.sqrt(x))\n",
    "print(x/2)"
   ]
  },
  {
   "cell_type": "code",
   "execution_count": null,
   "id": "d3d835d8-5d5c-493a-ae05-802ac93e62b9",
   "metadata": {},
   "outputs": [],
   "source": []
  },
  {
   "cell_type": "code",
   "execution_count": 20,
   "id": "87d9ab70-84ea-4c97-8f1c-7daa82e341cd",
   "metadata": {},
   "outputs": [
    {
     "name": "stdout",
     "output_type": "stream",
     "text": [
      "Array: [0 1 2 3 4 5 6 7 8 9]\n",
      "First element: 0\n",
      "Last element: 9\n",
      "Slice 2 to 5: [2 3 4 5]\n",
      "[1 3 5 7 9]\n"
     ]
    }
   ],
   "source": [
    "arr = np.arange(10) #numbers 0-9\n",
    "print(\"Array:\", arr)\n",
    "print(\"First element:\", arr[0])\n",
    "print(\"Last element:\", arr[-1])\n",
    "print(\"Slice 2 to 5:\", arr[2:6])\n",
    "even_nums = arr[arr % 2 != 0]\n",
    "print(even_nums)"
   ]
  },
  {
   "cell_type": "code",
   "execution_count": null,
   "id": "3ede65fa-ed3a-4fd8-b094-8c3cd4d50b09",
   "metadata": {},
   "outputs": [],
   "source": []
  },
  {
   "cell_type": "code",
   "execution_count": 1,
   "id": "18d46376-383e-49ba-ac44-14a8a9355fb8",
   "metadata": {},
   "outputs": [
    {
     "name": "stdout",
     "output_type": "stream",
     "text": [
      "a    10\n",
      "b    20\n",
      "c    30\n",
      "dtype: int64\n",
      "Access eleent b: 20\n"
     ]
    }
   ],
   "source": [
    "#Pandas basics. Series\n",
    "import pandas as pd\n",
    "\n",
    "data = pd.Series([10, 20, 30],\n",
    "index=[\"a\", \"b\", \"c\"])\n",
    "print(data)\n",
    "print(\"Access eleent b:\", data[\"b\"])"
   ]
  },
  {
   "cell_type": "code",
   "execution_count": null,
   "id": "974e34b7-c2e1-426d-ac4e-faff9a648a18",
   "metadata": {},
   "outputs": [],
   "source": []
  },
  {
   "cell_type": "code",
   "execution_count": 2,
   "id": "f395dde3-3e05-4141-bf43-d858f78420e4",
   "metadata": {},
   "outputs": [
    {
     "name": "stdout",
     "output_type": "stream",
     "text": [
      "     Tree  Age  CO2_absorbed\n",
      "0   Mango    2            50\n",
      "1  Accaia    4            45\n",
      "2    Pine    5            23\n"
     ]
    }
   ],
   "source": [
    "#Dataframe\n",
    "df = pd.DataFrame({\n",
    "    \"Tree\": [\"Mango\", \"Accaia\", \"Pine\"],\n",
    "    \"Age\": [2, 4, 5],\n",
    "    \"CO2_absorbed\": [50, 45, 23]\n",
    "})\n",
    "\n",
    "print(df)"
   ]
  },
  {
   "cell_type": "code",
   "execution_count": 4,
   "id": "64b8f19b-e4cd-459d-bdd8-12663406aed6",
   "metadata": {},
   "outputs": [
    {
     "name": "stdout",
     "output_type": "stream",
     "text": [
      "Select column Age:\n",
      " 0    2\n",
      "1    4\n",
      "2    5\n",
      "Name: Age, dtype: int64\n",
      "\n",
      " Trees older than 3 years: \n",
      "      Tree  Age  CO2_absorbed\n",
      "1  Accaia    4            45\n",
      "2    Pine    5            23\n",
      "\n",
      " Select first row: \n",
      " Tree            Mango\n",
      "Age                 2\n",
      "CO2_absorbed       50\n",
      "Name: 0, dtype: object\n"
     ]
    }
   ],
   "source": [
    "#Selecting and filtering\n",
    "print(\"Select column Age:\\n\", df[\"Age\"])\n",
    "print(\"\\n Trees older than 3 years: \\n\", df[df[\"Age\"] > 3])\n",
    "print(\"\\n Select first row: \\n\", df.iloc[0])"
   ]
  },
  {
   "cell_type": "code",
   "execution_count": null,
   "id": "3355887f-270e-4493-88f8-806194ce6397",
   "metadata": {},
   "outputs": [],
   "source": []
  },
  {
   "cell_type": "code",
   "execution_count": 5,
   "id": "1767b88e-9cb2-4fee-b24f-0634192e0f4e",
   "metadata": {},
   "outputs": [
    {
     "name": "stdout",
     "output_type": "stream",
     "text": [
      "Average age: 3.6666666666666665\n",
      "Max CO2 absorbed: 50\n",
      "\n",
      " Summary: \n",
      "             Age  CO2_absorbed\n",
      "count  3.000000      3.000000\n",
      "mean   3.666667     39.333333\n",
      "std    1.527525     14.364308\n",
      "min    2.000000     23.000000\n",
      "25%    3.000000     34.000000\n",
      "50%    4.000000     45.000000\n",
      "75%    4.500000     47.500000\n",
      "max    5.000000     50.000000\n"
     ]
    }
   ],
   "source": [
    "#Performing simple stats\n",
    "print(\"Average age:\", df[\"Age\"].mean())\n",
    "print(\"Max CO2 absorbed:\", df[\"CO2_absorbed\"].max())\n",
    "print(\"\\n Summary: \\n\", df.describe())"
   ]
  },
  {
   "cell_type": "code",
   "execution_count": null,
   "id": "00021caf-55da-4a38-9e54-a3ca57ff78c9",
   "metadata": {},
   "outputs": [],
   "source": []
  },
  {
   "cell_type": "code",
   "execution_count": 5,
   "id": "659f8dc2-4b6d-49fd-ac87-f48313020ab0",
   "metadata": {},
   "outputs": [
    {
     "name": "stdout",
     "output_type": "stream",
     "text": [
      "Seedling count:\n",
      " 2\n",
      "\n",
      "Tallest:\n",
      " TreeType     Pine\n",
      "Height_m       56\n",
      "Stage       Grown\n",
      "Name: 1, dtype: object\n",
      "\n",
      "Average height:\n",
      " 21.333333333333332\n"
     ]
    }
   ],
   "source": [
    "#Test on Dataframes\n",
    "import pandas as pd\n",
    "df = pd.DataFrame({\n",
    "    \"TreeType\": [\"Mango\", \"Pine\", \"Cactus\"],\n",
    "    \"Height_m\": [2, 56, 6],\n",
    "    \"Stage\": [\"Seedling\", \"Grown\", \"Seedling\"]\n",
    "})\n",
    "seed_count = (df[\"Stage\"] == \"Seedling\").sum()\n",
    "avg_height = df[\"Height_m\"].mean()\n",
    "tallest_tree = df.loc[df[\"Height_m\"].idxmax()]\n",
    "\n",
    "print(\"Seedling count:\\n\", seed_count)\n",
    "print(\"\\nTallest:\\n\", tallest_tree)\n",
    "print(\"\\nAverage height:\\n\", avg_height)"
   ]
  },
  {
   "cell_type": "code",
   "execution_count": null,
   "id": "a9a5970a-563e-401d-927e-aa9431db5671",
   "metadata": {},
   "outputs": [],
   "source": []
  }
 ],
 "metadata": {
  "kernelspec": {
   "display_name": "Python [conda env:base] *",
   "language": "python",
   "name": "conda-base-py"
  },
  "language_info": {
   "codemirror_mode": {
    "name": "ipython",
    "version": 3
   },
   "file_extension": ".py",
   "mimetype": "text/x-python",
   "name": "python",
   "nbconvert_exporter": "python",
   "pygments_lexer": "ipython3",
   "version": "3.13.5"
  }
 },
 "nbformat": 4,
 "nbformat_minor": 5
}
